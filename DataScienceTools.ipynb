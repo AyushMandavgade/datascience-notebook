{
  "nbformat": 4,
  "nbformat_minor": 0,
  "metadata": {
    "colab": {
      "provenance": []
    },
    "kernelspec": {
      "name": "python3",
      "display_name": "Python 3"
    },
    "language_info": {
      "name": "python"
    }
  },
  "cells": [
    {
      "cell_type": "code",
      "execution_count": 1,
      "metadata": {
        "id": "iv8Qyn1gUXoe"
      },
      "outputs": [],
      "source": [
        "# Data Science Tools and Ecosystem"
      ]
    },
    {
      "cell_type": "code",
      "source": [
        "# In this notebook, we summarize the tools, languages, and libraries used in Data Science."
      ],
      "metadata": {
        "id": "ZekWJVg2UvH9"
      },
      "execution_count": 3,
      "outputs": []
    },
    {
      "cell_type": "code",
      "source": [
        "### Data Science Languages:\n",
        "#- Python\n",
        "#- R\n",
        "#- SQL\n",
        "#- Julia"
      ],
      "metadata": {
        "id": "RhKTfF3KUw9V"
      },
      "execution_count": 5,
      "outputs": []
    },
    {
      "cell_type": "code",
      "source": [
        "### Popular Data Science Libraries:\n",
        "#- Pandas\n",
        "#- NumPy\n",
        "#- Matplotlib\n",
        "#- Scikit-learn\n",
        "#- TensorFlow\n"
      ],
      "metadata": {
        "id": "kDDyG_7qU2sZ"
      },
      "execution_count": 6,
      "outputs": []
    },
    {
      "cell_type": "code",
      "source": [
        "### Data Science Tools\n",
        "\n",
        "#| Tool | Category |\n",
        "#|------|----------|\n",
        "#| Jupyter Notebook | IDE |\n",
        "#| RStudio | IDE |\n",
        "#| Apache Spark | Big Data |\n",
        "#| TensorFlow | Machine Learning |\n"
      ],
      "metadata": {
        "id": "V_LBSEORVAiv"
      },
      "execution_count": 7,
      "outputs": []
    },
    {
      "cell_type": "code",
      "source": [
        "### Examples of Basic Arithmetic Expressions in Python"
      ],
      "metadata": {
        "id": "vQsdo15dVEzB"
      },
      "execution_count": 10,
      "outputs": []
    },
    {
      "cell_type": "code",
      "source": [
        "# Multiply and Add Numbers\n",
        "a = 5 * 4\n",
        "b = a + 10\n",
        "b"
      ],
      "metadata": {
        "colab": {
          "base_uri": "https://localhost:8080/"
        },
        "id": "vVvQLp2IVGWI",
        "outputId": "a249197a-4e41-4bf8-d6f8-a36c2aa8953d"
      },
      "execution_count": 11,
      "outputs": [
        {
          "output_type": "execute_result",
          "data": {
            "text/plain": [
              "30"
            ]
          },
          "metadata": {},
          "execution_count": 11
        }
      ]
    },
    {
      "cell_type": "code",
      "source": [
        "# Convert Minutes to Hours\n",
        "minutes = 200\n",
        "hours = minutes / 60\n",
        "hours\n"
      ],
      "metadata": {
        "colab": {
          "base_uri": "https://localhost:8080/"
        },
        "id": "gHkeLEzpVIB3",
        "outputId": "7e85b5fe-7ac5-4aea-fe7c-ee452c08bd5f"
      },
      "execution_count": 13,
      "outputs": [
        {
          "output_type": "execute_result",
          "data": {
            "text/plain": [
              "3.3333333333333335"
            ]
          },
          "metadata": {},
          "execution_count": 13
        }
      ]
    },
    {
      "cell_type": "code",
      "source": [
        "### Objectives:\n",
        "#- List popular data science languages\n",
        "#- List commonly used libraries\n",
        "#- Demonstrate simple arithmetic operations\n",
        "#- Create tables in markdown\n",
        "#- Share notebook on GitHub\n"
      ],
      "metadata": {
        "id": "UqUcrDqbVMhe"
      },
      "execution_count": 14,
      "outputs": []
    },
    {
      "cell_type": "code",
      "source": [
        "# Author: Ayush"
      ],
      "metadata": {
        "id": "mD2Jbjn2VSrm"
      },
      "execution_count": 17,
      "outputs": []
    },
    {
      "cell_type": "code",
      "source": [],
      "metadata": {
        "id": "tFjODpHYVU9-"
      },
      "execution_count": null,
      "outputs": []
    }
  ]
}